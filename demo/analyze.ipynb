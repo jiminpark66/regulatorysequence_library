{
 "cells": [
  {
   "cell_type": "code",
   "execution_count": 1,
   "metadata": {},
   "outputs": [],
   "source": [
    "import xlrd\n",
    "import pandas as pd\n",
    "import os\n",
    "import numpy as np"
   ]
  },
  {
   "cell_type": "code",
   "execution_count": 2,
   "metadata": {},
   "outputs": [
    {
     "name": "stdout",
     "output_type": "stream",
     "text": [
      "1\n"
     ]
    }
   ],
   "source": [
    "print(1)\n",
    "xl_workbook = xlrd.open_workbook(\"3_lib_final.xlsx\")\n",
    "sheet_names = xl_workbook.sheet_names()\n",
    "xl_sheet = xl_workbook.sheet_by_name(sheet_names[0])\n",
    "\n",
    "prom_lib = {}\n",
    "ref_bc = []\n",
    "ref_bc_last10 = []\n",
    "ref_p = []\n",
    "\n",
    "bc_dict = {}\n",
    "prom_dict = {}\n",
    "\n",
    "#column3 = barcode (reverse complemented to make 5'to3' sequence), column4 = promoter sequence without ATG+Barcode\n",
    "for rnum in range(1,xl_sheet.nrows):\n",
    "    prom_lib[xl_sheet.cell(rnum,5).value] = xl_sheet.cell(rnum,3).value\n",
    "    ref_bc.append(xl_sheet.cell(rnum,5).value)\n",
    "    ref_bc_last10.append(xl_sheet.cell(rnum,3).value[-10:])\n",
    "    ref_p.append(xl_sheet.cell(rnum,3).value)\n",
    "    ref_dict = dict(zip(ref_bc_last10, ref_bc))"
   ]
  },
  {
   "cell_type": "code",
   "execution_count": 3,
   "metadata": {},
   "outputs": [],
   "source": [
    "def gc(s):\n",
    "    return float((s.count(\"G\") + s.count(\"C\"))/len(s))   \n",
    "\n",
    "def read_dict(readfile):\n",
    "    dict = {}\n",
    "    file = open(readfile, \"r\")\n",
    "    for line in file.readlines():\n",
    "        key = line.split(\", \")[0]\n",
    "        value = float(line.split(\", \")[1])\n",
    "        dict[key] = value\n",
    "    return dict"
   ]
  },
  {
   "cell_type": "code",
   "execution_count": null,
   "metadata": {},
   "outputs": [],
   "source": []
  },
  {
   "cell_type": "code",
   "execution_count": 4,
   "metadata": {},
   "outputs": [],
   "source": [
    "#Parse RNA reads\n",
    "\n",
    "masterdf = pd.DataFrame.from_dict(prom_lib,orient=\"index\")\n",
    "masterdf.columns = [\"promoter\"]\n",
    "masterdf[\"GC_content\"] = [gc(x) for x in masterdf[\"promoter\"]]\n",
    "\n",
    "head = []\n",
    "Rsum = []\n",
    "RNA_files = []\n",
    "c = 0\n",
    "for files in os.listdir(\"0_bccounts/\"):\n",
    "    \n",
    "    if \"RNA\" in files:\n",
    "        c+=1\n",
    "        if c<10:\n",
    "            head.append(\"0\" + str(c))\n",
    "        else:\n",
    "            head.append((str(c)))\n",
    "        RNA_files.append(\"0_bccounts/\" + files)\n",
    "        \n",
    "for pos in range(len(head)):\n",
    "    tempRNA = pd.DataFrame(index = prom_lib.keys()) \n",
    "    tempRNA[head[pos] + \"_RNAcounts\"] = pd.DataFrame.from_dict(read_dict(RNA_files[pos]),orient=\"index\")\n",
    "    masterdf = pd.concat([masterdf,tempRNA],axis = 1)\n",
    "\n",
    "for pos in range(len(head)):\n",
    "    RNAsum = (masterdf[head[pos] + \"_RNAcounts\"]).sum()\n",
    "\n",
    "    Rsum.append(RNAsum)\n",
    "\n",
    "    normRNAs = pd.Series(masterdf[head[pos] + \"_RNAcounts\"]/RNAsum)\n",
    "    normRNAs.columns = [head[pos] + \"_RNAnorm\"]\n",
    "    masterdf[head[pos] + \"_RNAnorm\"] = normRNAs\n",
    "\n",
    "masterdf.to_csv(\"RNA_parse.csv\")"
   ]
  },
  {
   "cell_type": "code",
   "execution_count": 5,
   "metadata": {},
   "outputs": [],
   "source": [
    "#Parse DNA reads\n",
    "\n",
    "masterdf = pd.DataFrame.from_dict(prom_lib,orient=\"index\")\n",
    "masterdf.columns = [\"promoter\"]\n",
    "masterdf[\"GC_content\"] = [gc(x) for x in masterdf[\"promoter\"]]\n",
    "\n",
    "head = []\n",
    "Dsum = []\n",
    "DNA_files = []\n",
    "c = 0\n",
    "for files in os.listdir(\"0_bccounts/\"):\n",
    "    \n",
    "    if \"DNA\" in files:\n",
    "        c+=1\n",
    "        if c<10:\n",
    "            head.append(\"0\" + str(c))\n",
    "        else:\n",
    "            head.append((str(c)))\n",
    "        DNA_files.append(\"0_bccounts/\" + files)\n",
    "        \n",
    "for pos in range(len(head)):\n",
    "    tempDNA = pd.DataFrame(index = prom_lib.keys()) \n",
    "    tempDNA[head[pos] + \"_DNAcounts\"] = pd.DataFrame.from_dict(read_dict(DNA_files[pos]),orient=\"index\")\n",
    "    masterdf = pd.concat([masterdf,tempDNA],axis = 1)\n",
    "\n",
    "for pos in range(len(head)):\n",
    "    DNAsum = (masterdf[head[pos] + \"_DNAcounts\"]).sum()\n",
    "    Dsum.append(DNAsum)\n",
    "\n",
    "    normDNAs = pd.Series(masterdf[head[pos] + \"_DNAcounts\"]/DNAsum)\n",
    "    normDNAs.columns = [head[pos] + \"_DNAnorm\"]\n",
    "    masterdf[head[pos] + \"_DNAnorm\"] = normDNAs\n",
    "\n",
    "masterdf.to_csv(\"DNA_parse.csv\")"
   ]
  },
  {
   "cell_type": "code",
   "execution_count": 6,
   "metadata": {},
   "outputs": [
    {
     "name": "stdout",
     "output_type": "stream",
     "text": [
      "87411.0\n",
      "32937.0\n",
      "\n"
     ]
    }
   ],
   "source": [
    "DNAdf = pd.read_csv(\"DNA_parse.csv\",index_col = [0])\n",
    "RNAdf = pd.read_csv(\"RNA_parse.csv\",index_col = [0])\n",
    "\n",
    "Dcutoff = 10\n",
    "Rcutoff = 10\n",
    "\n",
    "masterdf = pd.DataFrame.from_dict(prom_lib,orient=\"index\")\n",
    "masterdf.columns = [\"promoter\"]\n",
    "masterdf[\"GC_content\"] = [gc(x) for x in masterdf[\"promoter\"]]\n",
    "\n",
    "head = []\n",
    "c = 0\n",
    "for files in os.listdir(\"0_bccounts/\"):\n",
    "    if \"DNA\" in files:\n",
    "        c+=1\n",
    "        if c<10:\n",
    "            head.append(\"0\"+str(c))\n",
    "        else:\n",
    "            head.append(str(c))\n",
    "#basically, divide each DNA norm col by RNA norm col, except for the ones thats less than cutoff counts\n",
    "\n",
    "#first set up the dataframe\n",
    "\n",
    "for pos in range(len(head)):\n",
    "    masterdf = pd.concat([masterdf,DNAdf[head[pos] + \"_DNAcounts\"],RNAdf[head[pos] + \"_RNAcounts\"]],axis = 1)\n",
    "\n",
    "for pos in range(len(head)):\n",
    "    DNAsum = (masterdf[head[pos] + \"_DNAcounts\"]).sum()\n",
    "    RNAsum = (masterdf[head[pos] + \"_RNAcounts\"]).sum()\n",
    "\n",
    "    print(DNAsum)\n",
    "    print(RNAsum)\n",
    "    print()\n",
    "    normDNAs = pd.Series(masterdf[head[pos] + \"_DNAcounts\"]/DNAsum)\n",
    "    normDNAs.columns = [head[pos] + \"_DNAnorm\"]\n",
    "    normRNAs = pd.Series(masterdf[head[pos] + \"_RNAcounts\"]/RNAsum)\n",
    "    normRNAs.columns = [head[pos] + \"_RNAnorm\"]\n",
    "    masterdf[head[pos] + \"_DNAnorm\"] = normDNAs\n",
    "    masterdf[head[pos] + \"_RNAnorm\"] = normRNAs\n",
    "    act = pd.Series((np.log10(normRNAs[p]/normDNAs[p]) if masterdf[head[pos] + \"_RNAcounts\"][p] >= Rcutoff and masterdf[head[pos] + \"_DNAcounts\"][p] >= Dcutoff else np.nan for p in range(len(masterdf.index))),name = head[pos] + \"_activ\",index = prom_lib.keys())\n",
    "    masterdf[head[pos] + \"_activ\"] = act \n",
    "    \n",
    "masterdf.to_csv(\"master_data.csv\")"
   ]
  },
  {
   "cell_type": "code",
   "execution_count": null,
   "metadata": {},
   "outputs": [],
   "source": []
  }
 ],
 "metadata": {
  "kernelspec": {
   "display_name": "Python 3",
   "language": "python",
   "name": "python3"
  },
  "language_info": {
   "codemirror_mode": {
    "name": "ipython",
    "version": 3
   },
   "file_extension": ".py",
   "mimetype": "text/x-python",
   "name": "python",
   "nbconvert_exporter": "python",
   "pygments_lexer": "ipython3",
   "version": "3.7.6"
  }
 },
 "nbformat": 4,
 "nbformat_minor": 4
}
